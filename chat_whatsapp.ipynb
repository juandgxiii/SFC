{
 "cells": [
  {
   "cell_type": "code",
   "execution_count": 43,
   "metadata": {},
   "outputs": [],
   "source": [
    "import re\n",
    "\n",
    "with open(\"C:\\\\Users\\\\Juan\\\\Documents\\\\sfc\\\\_chat.txt\", \"r\", encoding=\"utf-8\") as f:\n",
    "    chat = f.readlines()\n",
    "del f\n",
    "\n",
    "palabras = dict()\n",
    "\n",
    "i=1\n",
    "l=len(chat)-1\n",
    "\n",
    "# TODO: borrar audio omitido, imagen omitida, GIF omitido, etc.\n",
    "while i<=l:\n",
    "    if not re.search('\\[.*\\] (Simonee: |Juan: )', chat[i]):\n",
    "        chat[i-1] = chat[i-1].strip()+' ' + chat[i]\n",
    "        del chat[i]\n",
    "        l -= 1\n",
    "        i -= 1\n",
    "    i += 1\n",
    "del i, l\n",
    "\n",
    "for line in chat:\n",
    "    i = re.search('\\[.*\\] (Simonee: |Juan: )', line).end()\n",
    "    texto = line[i:]\n",
    "    for p in texto.split(' '):\n",
    "        p = p.strip().strip('\\u200e?!').lower()\n",
    "        if p in palabras:\n",
    "            palabras[p] += 1\n",
    "        else:\n",
    "            palabras[p] = 1\n",
    "del line, i, p, texto\n",
    "\n",
    "max = '', 0\n",
    "for k in palabras:\n",
    "    if palabras[k] > max[1]:\n",
    "        max = k, palabras[k]\n",
    "    elif palabras[k] == max[1]:\n",
    "        print(k)\n",
    "del k"
   ]
  },
  {
   "cell_type": "code",
   "execution_count": 46,
   "metadata": {},
   "outputs": [
    {
     "output_type": "execute_result",
     "data": {
      "text/plain": "501"
     },
     "metadata": {},
     "execution_count": 46
    }
   ],
   "source": [
    "palabras['jajaja']"
   ]
  }
 ],
 "metadata": {
  "language_info": {
   "codemirror_mode": {
    "name": "ipython",
    "version": 3
   },
   "file_extension": ".py",
   "mimetype": "text/x-python",
   "name": "python",
   "nbconvert_exporter": "python",
   "pygments_lexer": "ipython3",
   "version": "3.7.6-final"
  },
  "orig_nbformat": 2,
  "kernelspec": {
   "name": "python37664bitjuanvirtualenv3257aa04ec42490ba082ed16239758aa",
   "display_name": "Python 3.7.6 64-bit ('Juan': virtualenv)"
  }
 },
 "nbformat": 4,
 "nbformat_minor": 2
}